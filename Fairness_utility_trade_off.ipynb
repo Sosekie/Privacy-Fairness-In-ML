{
  "cells": [
    {
      "cell_type": "markdown",
      "source": [
        "Dataset: https://archive.ics.uci.edu/dataset/856/higher+education+students+performance+evaluation"
      ],
      "metadata": {
        "id": "0pIj2fXHCowo"
      },
      "id": "0pIj2fXHCowo"
    },
    {
      "cell_type": "code",
      "source": [
        "!wget https://archive.ics.uci.edu/static/public/856/higher+education+students+performance+evaluation.zip\n",
        "!unzip higher+education+students+performance+evaluation.zip"
      ],
      "metadata": {
        "colab": {
          "base_uri": "https://localhost:8080/"
        },
        "id": "GTkOGsPXDEYZ",
        "outputId": "62999f11-fb6c-45a7-c835-2a01b9ddc123"
      },
      "id": "GTkOGsPXDEYZ",
      "execution_count": 1,
      "outputs": [
        {
          "output_type": "stream",
          "name": "stdout",
          "text": [
            "--2023-11-09 19:45:58--  https://archive.ics.uci.edu/static/public/856/higher+education+students+performance+evaluation.zip\n",
            "Resolving archive.ics.uci.edu (archive.ics.uci.edu)... 128.195.10.252\n",
            "Connecting to archive.ics.uci.edu (archive.ics.uci.edu)|128.195.10.252|:443... connected.\n",
            "HTTP request sent, awaiting response... 200 OK\n",
            "Length: unspecified\n",
            "Saving to: ‘higher+education+students+performance+evaluation.zip’\n",
            "\n",
            "higher+education+st     [ <=>                ]   2.16K  --.-KB/s    in 0s      \n",
            "\n",
            "2023-11-09 19:45:58 (383 MB/s) - ‘higher+education+students+performance+evaluation.zip’ saved [2212]\n",
            "\n",
            "Archive:  higher+education+students+performance+evaluation.zip\n",
            "  inflating: DATA (1).csv            \n"
          ]
        }
      ]
    },
    {
      "cell_type": "code",
      "execution_count": 2,
      "id": "d9e13cd9",
      "metadata": {
        "id": "d9e13cd9"
      },
      "outputs": [],
      "source": [
        "import pandas as pd"
      ]
    },
    {
      "cell_type": "code",
      "execution_count": 3,
      "id": "69f3a7ee",
      "metadata": {
        "id": "69f3a7ee"
      },
      "outputs": [],
      "source": [
        "file_path = '/content/DATA (1).csv'\n",
        "df = pd.read_csv(file_path)"
      ]
    },
    {
      "cell_type": "code",
      "execution_count": 4,
      "id": "19912308",
      "metadata": {
        "id": "19912308",
        "colab": {
          "base_uri": "https://localhost:8080/",
          "height": 392
        },
        "outputId": "5b2e37e7-1a5d-4bc7-fdf7-c96b7d452306"
      },
      "outputs": [
        {
          "output_type": "execute_result",
          "data": {
            "text/plain": [
              "  STUDENT ID  1  2  3  4  5  6  7  8  9  ...  23  24  25  26  27  28  29  30  \\\n",
              "0   STUDENT1  2  2  3  3  1  2  2  1  1  ...   1   1   3   2   1   2   1   1   \n",
              "1   STUDENT2  2  2  3  3  1  2  2  1  1  ...   1   1   3   2   3   2   2   3   \n",
              "2   STUDENT3  2  2  2  3  2  2  2  2  4  ...   1   1   2   2   1   1   2   2   \n",
              "3   STUDENT4  1  1  1  3  1  2  1  2  1  ...   1   2   3   2   2   1   3   2   \n",
              "4   STUDENT5  2  2  1  3  2  2  1  3  1  ...   2   1   2   2   2   1   2   2   \n",
              "5   STUDENT6  2  2  2  3  2  2  2  2  1  ...   1   1   1   2   1   2   4   4   \n",
              "6   STUDENT7  1  2  2  4  2  2  2  1  1  ...   1   1   3   3   3   3   4   4   \n",
              "7   STUDENT8  1  1  2  3  1  1  1  2  2  ...   3   1   3   2   2   1   1   1   \n",
              "8   STUDENT9  2  1  3  3  2  1  1  1  1  ...   1   1   3   2   2   2   4   3   \n",
              "9  STUDENT10  2  1  2  3  2  2  1  3  4  ...   1   1   2   2   2   2   1   2   \n",
              "\n",
              "   COURSE ID  GRADE  \n",
              "0          1      1  \n",
              "1          1      1  \n",
              "2          1      1  \n",
              "3          1      1  \n",
              "4          1      1  \n",
              "5          1      2  \n",
              "6          1      5  \n",
              "7          1      2  \n",
              "8          1      5  \n",
              "9          1      0  \n",
              "\n",
              "[10 rows x 33 columns]"
            ],
            "text/html": [
              "\n",
              "  <div id=\"df-68eca27d-2de9-4bb9-bc25-82acff300651\" class=\"colab-df-container\">\n",
              "    <div>\n",
              "<style scoped>\n",
              "    .dataframe tbody tr th:only-of-type {\n",
              "        vertical-align: middle;\n",
              "    }\n",
              "\n",
              "    .dataframe tbody tr th {\n",
              "        vertical-align: top;\n",
              "    }\n",
              "\n",
              "    .dataframe thead th {\n",
              "        text-align: right;\n",
              "    }\n",
              "</style>\n",
              "<table border=\"1\" class=\"dataframe\">\n",
              "  <thead>\n",
              "    <tr style=\"text-align: right;\">\n",
              "      <th></th>\n",
              "      <th>STUDENT ID</th>\n",
              "      <th>1</th>\n",
              "      <th>2</th>\n",
              "      <th>3</th>\n",
              "      <th>4</th>\n",
              "      <th>5</th>\n",
              "      <th>6</th>\n",
              "      <th>7</th>\n",
              "      <th>8</th>\n",
              "      <th>9</th>\n",
              "      <th>...</th>\n",
              "      <th>23</th>\n",
              "      <th>24</th>\n",
              "      <th>25</th>\n",
              "      <th>26</th>\n",
              "      <th>27</th>\n",
              "      <th>28</th>\n",
              "      <th>29</th>\n",
              "      <th>30</th>\n",
              "      <th>COURSE ID</th>\n",
              "      <th>GRADE</th>\n",
              "    </tr>\n",
              "  </thead>\n",
              "  <tbody>\n",
              "    <tr>\n",
              "      <th>0</th>\n",
              "      <td>STUDENT1</td>\n",
              "      <td>2</td>\n",
              "      <td>2</td>\n",
              "      <td>3</td>\n",
              "      <td>3</td>\n",
              "      <td>1</td>\n",
              "      <td>2</td>\n",
              "      <td>2</td>\n",
              "      <td>1</td>\n",
              "      <td>1</td>\n",
              "      <td>...</td>\n",
              "      <td>1</td>\n",
              "      <td>1</td>\n",
              "      <td>3</td>\n",
              "      <td>2</td>\n",
              "      <td>1</td>\n",
              "      <td>2</td>\n",
              "      <td>1</td>\n",
              "      <td>1</td>\n",
              "      <td>1</td>\n",
              "      <td>1</td>\n",
              "    </tr>\n",
              "    <tr>\n",
              "      <th>1</th>\n",
              "      <td>STUDENT2</td>\n",
              "      <td>2</td>\n",
              "      <td>2</td>\n",
              "      <td>3</td>\n",
              "      <td>3</td>\n",
              "      <td>1</td>\n",
              "      <td>2</td>\n",
              "      <td>2</td>\n",
              "      <td>1</td>\n",
              "      <td>1</td>\n",
              "      <td>...</td>\n",
              "      <td>1</td>\n",
              "      <td>1</td>\n",
              "      <td>3</td>\n",
              "      <td>2</td>\n",
              "      <td>3</td>\n",
              "      <td>2</td>\n",
              "      <td>2</td>\n",
              "      <td>3</td>\n",
              "      <td>1</td>\n",
              "      <td>1</td>\n",
              "    </tr>\n",
              "    <tr>\n",
              "      <th>2</th>\n",
              "      <td>STUDENT3</td>\n",
              "      <td>2</td>\n",
              "      <td>2</td>\n",
              "      <td>2</td>\n",
              "      <td>3</td>\n",
              "      <td>2</td>\n",
              "      <td>2</td>\n",
              "      <td>2</td>\n",
              "      <td>2</td>\n",
              "      <td>4</td>\n",
              "      <td>...</td>\n",
              "      <td>1</td>\n",
              "      <td>1</td>\n",
              "      <td>2</td>\n",
              "      <td>2</td>\n",
              "      <td>1</td>\n",
              "      <td>1</td>\n",
              "      <td>2</td>\n",
              "      <td>2</td>\n",
              "      <td>1</td>\n",
              "      <td>1</td>\n",
              "    </tr>\n",
              "    <tr>\n",
              "      <th>3</th>\n",
              "      <td>STUDENT4</td>\n",
              "      <td>1</td>\n",
              "      <td>1</td>\n",
              "      <td>1</td>\n",
              "      <td>3</td>\n",
              "      <td>1</td>\n",
              "      <td>2</td>\n",
              "      <td>1</td>\n",
              "      <td>2</td>\n",
              "      <td>1</td>\n",
              "      <td>...</td>\n",
              "      <td>1</td>\n",
              "      <td>2</td>\n",
              "      <td>3</td>\n",
              "      <td>2</td>\n",
              "      <td>2</td>\n",
              "      <td>1</td>\n",
              "      <td>3</td>\n",
              "      <td>2</td>\n",
              "      <td>1</td>\n",
              "      <td>1</td>\n",
              "    </tr>\n",
              "    <tr>\n",
              "      <th>4</th>\n",
              "      <td>STUDENT5</td>\n",
              "      <td>2</td>\n",
              "      <td>2</td>\n",
              "      <td>1</td>\n",
              "      <td>3</td>\n",
              "      <td>2</td>\n",
              "      <td>2</td>\n",
              "      <td>1</td>\n",
              "      <td>3</td>\n",
              "      <td>1</td>\n",
              "      <td>...</td>\n",
              "      <td>2</td>\n",
              "      <td>1</td>\n",
              "      <td>2</td>\n",
              "      <td>2</td>\n",
              "      <td>2</td>\n",
              "      <td>1</td>\n",
              "      <td>2</td>\n",
              "      <td>2</td>\n",
              "      <td>1</td>\n",
              "      <td>1</td>\n",
              "    </tr>\n",
              "    <tr>\n",
              "      <th>5</th>\n",
              "      <td>STUDENT6</td>\n",
              "      <td>2</td>\n",
              "      <td>2</td>\n",
              "      <td>2</td>\n",
              "      <td>3</td>\n",
              "      <td>2</td>\n",
              "      <td>2</td>\n",
              "      <td>2</td>\n",
              "      <td>2</td>\n",
              "      <td>1</td>\n",
              "      <td>...</td>\n",
              "      <td>1</td>\n",
              "      <td>1</td>\n",
              "      <td>1</td>\n",
              "      <td>2</td>\n",
              "      <td>1</td>\n",
              "      <td>2</td>\n",
              "      <td>4</td>\n",
              "      <td>4</td>\n",
              "      <td>1</td>\n",
              "      <td>2</td>\n",
              "    </tr>\n",
              "    <tr>\n",
              "      <th>6</th>\n",
              "      <td>STUDENT7</td>\n",
              "      <td>1</td>\n",
              "      <td>2</td>\n",
              "      <td>2</td>\n",
              "      <td>4</td>\n",
              "      <td>2</td>\n",
              "      <td>2</td>\n",
              "      <td>2</td>\n",
              "      <td>1</td>\n",
              "      <td>1</td>\n",
              "      <td>...</td>\n",
              "      <td>1</td>\n",
              "      <td>1</td>\n",
              "      <td>3</td>\n",
              "      <td>3</td>\n",
              "      <td>3</td>\n",
              "      <td>3</td>\n",
              "      <td>4</td>\n",
              "      <td>4</td>\n",
              "      <td>1</td>\n",
              "      <td>5</td>\n",
              "    </tr>\n",
              "    <tr>\n",
              "      <th>7</th>\n",
              "      <td>STUDENT8</td>\n",
              "      <td>1</td>\n",
              "      <td>1</td>\n",
              "      <td>2</td>\n",
              "      <td>3</td>\n",
              "      <td>1</td>\n",
              "      <td>1</td>\n",
              "      <td>1</td>\n",
              "      <td>2</td>\n",
              "      <td>2</td>\n",
              "      <td>...</td>\n",
              "      <td>3</td>\n",
              "      <td>1</td>\n",
              "      <td>3</td>\n",
              "      <td>2</td>\n",
              "      <td>2</td>\n",
              "      <td>1</td>\n",
              "      <td>1</td>\n",
              "      <td>1</td>\n",
              "      <td>1</td>\n",
              "      <td>2</td>\n",
              "    </tr>\n",
              "    <tr>\n",
              "      <th>8</th>\n",
              "      <td>STUDENT9</td>\n",
              "      <td>2</td>\n",
              "      <td>1</td>\n",
              "      <td>3</td>\n",
              "      <td>3</td>\n",
              "      <td>2</td>\n",
              "      <td>1</td>\n",
              "      <td>1</td>\n",
              "      <td>1</td>\n",
              "      <td>1</td>\n",
              "      <td>...</td>\n",
              "      <td>1</td>\n",
              "      <td>1</td>\n",
              "      <td>3</td>\n",
              "      <td>2</td>\n",
              "      <td>2</td>\n",
              "      <td>2</td>\n",
              "      <td>4</td>\n",
              "      <td>3</td>\n",
              "      <td>1</td>\n",
              "      <td>5</td>\n",
              "    </tr>\n",
              "    <tr>\n",
              "      <th>9</th>\n",
              "      <td>STUDENT10</td>\n",
              "      <td>2</td>\n",
              "      <td>1</td>\n",
              "      <td>2</td>\n",
              "      <td>3</td>\n",
              "      <td>2</td>\n",
              "      <td>2</td>\n",
              "      <td>1</td>\n",
              "      <td>3</td>\n",
              "      <td>4</td>\n",
              "      <td>...</td>\n",
              "      <td>1</td>\n",
              "      <td>1</td>\n",
              "      <td>2</td>\n",
              "      <td>2</td>\n",
              "      <td>2</td>\n",
              "      <td>2</td>\n",
              "      <td>1</td>\n",
              "      <td>2</td>\n",
              "      <td>1</td>\n",
              "      <td>0</td>\n",
              "    </tr>\n",
              "  </tbody>\n",
              "</table>\n",
              "<p>10 rows × 33 columns</p>\n",
              "</div>\n",
              "    <div class=\"colab-df-buttons\">\n",
              "\n",
              "  <div class=\"colab-df-container\">\n",
              "    <button class=\"colab-df-convert\" onclick=\"convertToInteractive('df-68eca27d-2de9-4bb9-bc25-82acff300651')\"\n",
              "            title=\"Convert this dataframe to an interactive table.\"\n",
              "            style=\"display:none;\">\n",
              "\n",
              "  <svg xmlns=\"http://www.w3.org/2000/svg\" height=\"24px\" viewBox=\"0 -960 960 960\">\n",
              "    <path d=\"M120-120v-720h720v720H120Zm60-500h600v-160H180v160Zm220 220h160v-160H400v160Zm0 220h160v-160H400v160ZM180-400h160v-160H180v160Zm440 0h160v-160H620v160ZM180-180h160v-160H180v160Zm440 0h160v-160H620v160Z\"/>\n",
              "  </svg>\n",
              "    </button>\n",
              "\n",
              "  <style>\n",
              "    .colab-df-container {\n",
              "      display:flex;\n",
              "      gap: 12px;\n",
              "    }\n",
              "\n",
              "    .colab-df-convert {\n",
              "      background-color: #E8F0FE;\n",
              "      border: none;\n",
              "      border-radius: 50%;\n",
              "      cursor: pointer;\n",
              "      display: none;\n",
              "      fill: #1967D2;\n",
              "      height: 32px;\n",
              "      padding: 0 0 0 0;\n",
              "      width: 32px;\n",
              "    }\n",
              "\n",
              "    .colab-df-convert:hover {\n",
              "      background-color: #E2EBFA;\n",
              "      box-shadow: 0px 1px 2px rgba(60, 64, 67, 0.3), 0px 1px 3px 1px rgba(60, 64, 67, 0.15);\n",
              "      fill: #174EA6;\n",
              "    }\n",
              "\n",
              "    .colab-df-buttons div {\n",
              "      margin-bottom: 4px;\n",
              "    }\n",
              "\n",
              "    [theme=dark] .colab-df-convert {\n",
              "      background-color: #3B4455;\n",
              "      fill: #D2E3FC;\n",
              "    }\n",
              "\n",
              "    [theme=dark] .colab-df-convert:hover {\n",
              "      background-color: #434B5C;\n",
              "      box-shadow: 0px 1px 3px 1px rgba(0, 0, 0, 0.15);\n",
              "      filter: drop-shadow(0px 1px 2px rgba(0, 0, 0, 0.3));\n",
              "      fill: #FFFFFF;\n",
              "    }\n",
              "  </style>\n",
              "\n",
              "    <script>\n",
              "      const buttonEl =\n",
              "        document.querySelector('#df-68eca27d-2de9-4bb9-bc25-82acff300651 button.colab-df-convert');\n",
              "      buttonEl.style.display =\n",
              "        google.colab.kernel.accessAllowed ? 'block' : 'none';\n",
              "\n",
              "      async function convertToInteractive(key) {\n",
              "        const element = document.querySelector('#df-68eca27d-2de9-4bb9-bc25-82acff300651');\n",
              "        const dataTable =\n",
              "          await google.colab.kernel.invokeFunction('convertToInteractive',\n",
              "                                                    [key], {});\n",
              "        if (!dataTable) return;\n",
              "\n",
              "        const docLinkHtml = 'Like what you see? Visit the ' +\n",
              "          '<a target=\"_blank\" href=https://colab.research.google.com/notebooks/data_table.ipynb>data table notebook</a>'\n",
              "          + ' to learn more about interactive tables.';\n",
              "        element.innerHTML = '';\n",
              "        dataTable['output_type'] = 'display_data';\n",
              "        await google.colab.output.renderOutput(dataTable, element);\n",
              "        const docLink = document.createElement('div');\n",
              "        docLink.innerHTML = docLinkHtml;\n",
              "        element.appendChild(docLink);\n",
              "      }\n",
              "    </script>\n",
              "  </div>\n",
              "\n",
              "\n",
              "<div id=\"df-8a12b05d-97af-4997-ab05-29d15e2d70fc\">\n",
              "  <button class=\"colab-df-quickchart\" onclick=\"quickchart('df-8a12b05d-97af-4997-ab05-29d15e2d70fc')\"\n",
              "            title=\"Suggest charts\"\n",
              "            style=\"display:none;\">\n",
              "\n",
              "<svg xmlns=\"http://www.w3.org/2000/svg\" height=\"24px\"viewBox=\"0 0 24 24\"\n",
              "     width=\"24px\">\n",
              "    <g>\n",
              "        <path d=\"M19 3H5c-1.1 0-2 .9-2 2v14c0 1.1.9 2 2 2h14c1.1 0 2-.9 2-2V5c0-1.1-.9-2-2-2zM9 17H7v-7h2v7zm4 0h-2V7h2v10zm4 0h-2v-4h2v4z\"/>\n",
              "    </g>\n",
              "</svg>\n",
              "  </button>\n",
              "\n",
              "<style>\n",
              "  .colab-df-quickchart {\n",
              "      --bg-color: #E8F0FE;\n",
              "      --fill-color: #1967D2;\n",
              "      --hover-bg-color: #E2EBFA;\n",
              "      --hover-fill-color: #174EA6;\n",
              "      --disabled-fill-color: #AAA;\n",
              "      --disabled-bg-color: #DDD;\n",
              "  }\n",
              "\n",
              "  [theme=dark] .colab-df-quickchart {\n",
              "      --bg-color: #3B4455;\n",
              "      --fill-color: #D2E3FC;\n",
              "      --hover-bg-color: #434B5C;\n",
              "      --hover-fill-color: #FFFFFF;\n",
              "      --disabled-bg-color: #3B4455;\n",
              "      --disabled-fill-color: #666;\n",
              "  }\n",
              "\n",
              "  .colab-df-quickchart {\n",
              "    background-color: var(--bg-color);\n",
              "    border: none;\n",
              "    border-radius: 50%;\n",
              "    cursor: pointer;\n",
              "    display: none;\n",
              "    fill: var(--fill-color);\n",
              "    height: 32px;\n",
              "    padding: 0;\n",
              "    width: 32px;\n",
              "  }\n",
              "\n",
              "  .colab-df-quickchart:hover {\n",
              "    background-color: var(--hover-bg-color);\n",
              "    box-shadow: 0 1px 2px rgba(60, 64, 67, 0.3), 0 1px 3px 1px rgba(60, 64, 67, 0.15);\n",
              "    fill: var(--button-hover-fill-color);\n",
              "  }\n",
              "\n",
              "  .colab-df-quickchart-complete:disabled,\n",
              "  .colab-df-quickchart-complete:disabled:hover {\n",
              "    background-color: var(--disabled-bg-color);\n",
              "    fill: var(--disabled-fill-color);\n",
              "    box-shadow: none;\n",
              "  }\n",
              "\n",
              "  .colab-df-spinner {\n",
              "    border: 2px solid var(--fill-color);\n",
              "    border-color: transparent;\n",
              "    border-bottom-color: var(--fill-color);\n",
              "    animation:\n",
              "      spin 1s steps(1) infinite;\n",
              "  }\n",
              "\n",
              "  @keyframes spin {\n",
              "    0% {\n",
              "      border-color: transparent;\n",
              "      border-bottom-color: var(--fill-color);\n",
              "      border-left-color: var(--fill-color);\n",
              "    }\n",
              "    20% {\n",
              "      border-color: transparent;\n",
              "      border-left-color: var(--fill-color);\n",
              "      border-top-color: var(--fill-color);\n",
              "    }\n",
              "    30% {\n",
              "      border-color: transparent;\n",
              "      border-left-color: var(--fill-color);\n",
              "      border-top-color: var(--fill-color);\n",
              "      border-right-color: var(--fill-color);\n",
              "    }\n",
              "    40% {\n",
              "      border-color: transparent;\n",
              "      border-right-color: var(--fill-color);\n",
              "      border-top-color: var(--fill-color);\n",
              "    }\n",
              "    60% {\n",
              "      border-color: transparent;\n",
              "      border-right-color: var(--fill-color);\n",
              "    }\n",
              "    80% {\n",
              "      border-color: transparent;\n",
              "      border-right-color: var(--fill-color);\n",
              "      border-bottom-color: var(--fill-color);\n",
              "    }\n",
              "    90% {\n",
              "      border-color: transparent;\n",
              "      border-bottom-color: var(--fill-color);\n",
              "    }\n",
              "  }\n",
              "</style>\n",
              "\n",
              "  <script>\n",
              "    async function quickchart(key) {\n",
              "      const quickchartButtonEl =\n",
              "        document.querySelector('#' + key + ' button');\n",
              "      quickchartButtonEl.disabled = true;  // To prevent multiple clicks.\n",
              "      quickchartButtonEl.classList.add('colab-df-spinner');\n",
              "      try {\n",
              "        const charts = await google.colab.kernel.invokeFunction(\n",
              "            'suggestCharts', [key], {});\n",
              "      } catch (error) {\n",
              "        console.error('Error during call to suggestCharts:', error);\n",
              "      }\n",
              "      quickchartButtonEl.classList.remove('colab-df-spinner');\n",
              "      quickchartButtonEl.classList.add('colab-df-quickchart-complete');\n",
              "    }\n",
              "    (() => {\n",
              "      let quickchartButtonEl =\n",
              "        document.querySelector('#df-8a12b05d-97af-4997-ab05-29d15e2d70fc button');\n",
              "      quickchartButtonEl.style.display =\n",
              "        google.colab.kernel.accessAllowed ? 'block' : 'none';\n",
              "    })();\n",
              "  </script>\n",
              "</div>\n",
              "    </div>\n",
              "  </div>\n"
            ]
          },
          "metadata": {},
          "execution_count": 4
        }
      ],
      "source": [
        "df.head(10)"
      ]
    },
    {
      "cell_type": "markdown",
      "source": [
        "In this dataset, the known outcome is Grade, the predicted outcome is the Grade given by the model, and the other conditions are z, so:\\\n",
        "y = Grade_current\\\n",
        "a = Grade_predict\\\n",
        "z = other_features(like gender)"
      ],
      "metadata": {
        "id": "OnpvNb2fkK51"
      },
      "id": "OnpvNb2fkK51"
    },
    {
      "cell_type": "code",
      "execution_count": 5,
      "id": "450e3b4b",
      "metadata": {
        "id": "450e3b4b",
        "colab": {
          "base_uri": "https://localhost:8080/"
        },
        "outputId": "ef6543aa-15a2-4ee3-e12e-be1af19148b0"
      },
      "outputs": [
        {
          "output_type": "stream",
          "name": "stdout",
          "text": [
            "Model Accuracy: 0.1724137931034483\n"
          ]
        }
      ],
      "source": [
        "import numpy as np\n",
        "from sklearn.model_selection import train_test_split\n",
        "from sklearn.ensemble import RandomForestClassifier\n",
        "from sklearn.metrics import accuracy_score\n",
        "\n",
        "data = pd.read_csv(file_path)\n",
        "\n",
        "# feature selection: Remove features that we think they are not informative or relevant for this classification task\n",
        "data = data.drop(columns=['STUDENT ID', '7', '8', '9', '10', '13', '15', '16', 'COURSE ID'])\n",
        "\n",
        "# Separate features (X) and the target (y) which is classification for OUTPUT Grade (0: Fail, 1: DD, 2: DC, 3: CC, 4: CB, 5: BB, 6: BA, 7: AA)\n",
        "X = data.drop(columns=['GRADE'])\n",
        "y = data['GRADE']\n",
        "\n",
        "# Split the dataset into a training and testing set. we consider 20% of the data for test and 80% fot training part\n",
        "X_train, X_test, y_train, y_test = train_test_split(X, y, test_size=0.2, random_state=42)\n",
        "\n",
        "# Here we train a classification model using Random Forest without fairness constraints\n",
        "classifier = RandomForestClassifier(n_estimators=40, max_depth=10)\n",
        "classifier.fit(X_train, y_train)\n",
        "y_pred = classifier.predict(X_test)\n",
        "\n",
        "# to evaluate the model's accuracy\n",
        "accuracy = accuracy_score(y_test, y_pred)\n",
        "print(f\"Model Accuracy: {accuracy}\")\n"
      ]
    },
    {
      "cell_type": "code",
      "execution_count": 6,
      "id": "7cf169bd",
      "metadata": {
        "id": "7cf169bd",
        "colab": {
          "base_uri": "https://localhost:8080/"
        },
        "outputId": "4f5cc819-27ac-4409-a923-ce1b007c4526"
      },
      "outputs": [
        {
          "output_type": "stream",
          "name": "stdout",
          "text": [
            "SVM Model Accuracy: 0.1724137931034483\n"
          ]
        }
      ],
      "source": [
        "from sklearn.svm import SVC\n",
        "svm_classifier = SVC(kernel='rbf', random_state=42)\n",
        "svm_classifier.fit(X_train, y_train)\n",
        "y_pred_svm = svm_classifier.predict(X_test)\n",
        "accuracy_svm = accuracy_score(y_test, y_pred_svm)\n",
        "print(f\"SVM Model Accuracy: {accuracy_svm}\")"
      ]
    },
    {
      "cell_type": "code",
      "execution_count": 7,
      "id": "cb3f5d3e",
      "metadata": {
        "id": "cb3f5d3e",
        "colab": {
          "base_uri": "https://localhost:8080/",
          "height": 504
        },
        "outputId": "fb30a7f5-63dd-4e46-cfdb-6529e6b1d1db"
      },
      "outputs": [
        {
          "output_type": "execute_result",
          "data": {
            "text/plain": [
              "[Text(1, 0, 'Female'), Text(2, 0, 'Male')]"
            ]
          },
          "metadata": {},
          "execution_count": 7
        },
        {
          "output_type": "display_data",
          "data": {
            "text/plain": [
              "<Figure size 1200x500 with 1 Axes>"
            ],
            "image/png": "[encoded data removed]"
          },
          "metadata": {}
        }
      ],
      "source": [
        "import matplotlib.pyplot as plt\n",
        "\n",
        "data_gender = data[['2']].to_numpy()\n",
        "\n",
        "fig, axes = plt.subplots(nrows=1, ncols=1, figsize=(12, 5))\n",
        "\n",
        "# Plotting histogram for column Sex\n",
        "axes.hist(data_gender[:, 0], bins=range(1, 4), edgecolor='black', align='left')\n",
        "axes.set_title('Histogram for column \"2\" (Gender)')\n",
        "axes.set_xlabel('Gender')\n",
        "axes.set_ylabel('Frequency')\n",
        "axes.set_xticks([1, 2])\n",
        "axes.set_xticklabels(['Female', 'Male'])"
      ]
    },
    {
      "cell_type": "code",
      "source": [
        "# Pie chart\n",
        "counts = df['2'].value_counts()\n",
        "labels = counts.index\n",
        "plt.pie(counts, startangle=90)\n",
        "plt.legend(labels, loc=2,fontsize=15)\n",
        "plt.title(\"Gender\",size=20)"
      ],
      "metadata": {
        "id": "NSdzhV4x0SLt",
        "colab": {
          "base_uri": "https://localhost:8080/",
          "height": 453
        },
        "outputId": "84c51507-98d1-4c5d-faea-a8bc2f532d63"
      },
      "id": "NSdzhV4x0SLt",
      "execution_count": 8,
      "outputs": [
        {
          "output_type": "execute_result",
          "data": {
            "text/plain": [
              "Text(0.5, 1.0, 'Gender')"
            ]
          },
          "metadata": {},
          "execution_count": 8
        },
        {
          "output_type": "display_data",
          "data": {
            "text/plain": [
              "<Figure size 640x480 with 1 Axes>"
            ],
            "image/png": "[encoded data removed]"
          },
          "metadata": {}
        }
      ]
    },
    {
      "cell_type": "code",
      "source": [
        "gender_grades = data.groupby('2')['GRADE'].value_counts().unstack()\n",
        "gender_grades.plot(kind='bar', stacked=True)\n",
        "plt.title('Relationship Between Gender and Grades')\n",
        "plt.xlabel('Gender')\n",
        "plt.ylabel('Count')\n",
        "plt.show()\n"
      ],
      "metadata": {
        "id": "tT3kZTR80bKW",
        "colab": {
          "base_uri": "https://localhost:8080/",
          "height": 467
        },
        "outputId": "29bf0226-015f-47eb-afa0-9ea22c9ec07b"
      },
      "id": "tT3kZTR80bKW",
      "execution_count": 9,
      "outputs": [
        {
          "output_type": "display_data",
          "data": {
            "text/plain": [
              "<Figure size 640x480 with 1 Axes>"
            ],
            "image/png": "[encoded data removed]"
          },
          "metadata": {}
        }
      ]
    },
    {
      "cell_type": "markdown",
      "source": [
        "As we can see, the variable gender is not completely independent of Grade, and the two genders are not equal in number. So as a first step, we have to oversampling the lesser gender so that its number is equal to the other one."
      ],
      "metadata": {
        "id": "UetxzR6IlDaW"
      },
      "id": "UetxzR6IlDaW"
    },
    {
      "cell_type": "markdown",
      "source": [
        "##Oversampling\n",
        "Oversampling, in the context of group fairness,  involves increasing the representation of underrepresented groups in the dataset to balance the data. This can help mitigate bias in the model's predictions by giving the underrepresented group more influence during model training.\n",
        "\n",
        "So for group fairness, we used the oversampling technique. SMOTE will oversample all classes to have the same number of examples as the class with the most examples.\n",
        "SMOTE oversampling is an effective solution for imbalanced multi-class classification.\n",
        "SMOTE is a popular oversampling technique, and it can be effective in addressing class imbalance by generating synthetic samples for the minority class. It helps the model better capture the characteristics of the minority class and often leads to improved performance, especially when the class imbalance is significant."
      ],
      "metadata": {
        "id": "alzP1Te48R5l"
      },
      "id": "alzP1Te48R5l"
    },
    {
      "cell_type": "code",
      "source": [
        "from imblearn.over_sampling import SMOTE\n",
        "\n",
        "oversample = SMOTE()\n",
        "X, y = oversample.fit_resample(X, y)\n",
        "\n",
        "X_train, X_test, y_train, y_test = train_test_split(X, y, test_size=0.2, random_state=42)\n",
        "classifier = RandomForestClassifier(n_estimators=40, max_depth=10)\n",
        "classifier.fit(X_train, y_train)\n",
        "y_pred = classifier.predict(X_test)\n",
        "\n",
        "\n",
        "accuracy = accuracy_score(y_test, y_pred)\n",
        "print(f\"Model Accuracy: {accuracy}\")"
      ],
      "metadata": {
        "id": "NDUZ0-GW2AAa",
        "colab": {
          "base_uri": "https://localhost:8080/"
        },
        "outputId": "dcf67de4-1fd1-401a-9c91-3586ecf5b672"
      },
      "id": "NDUZ0-GW2AAa",
      "execution_count": 10,
      "outputs": [
        {
          "output_type": "stream",
          "name": "stdout",
          "text": [
            "Model Accuracy: 0.5357142857142857\n"
          ]
        }
      ]
    },
    {
      "cell_type": "markdown",
      "source": [
        "Group fairness techniques aim to reduce bias and disparities in model predictions across different demographic groups. By addressing bias in the training data, the model is less likely to produce unfair and inaccurate predictions, resulting in improved overall performance. We observed that our model's accuracy increased from 0.172 to 0.607"
      ],
      "metadata": {
        "id": "ITFBwZFv8vEu"
      },
      "id": "ITFBwZFv8vEu"
    },
    {
      "cell_type": "code",
      "source": [
        "X_test['True_Grade'] = y_test\n",
        "X_test['Predicted_Grade'] = y_pred\n",
        "\n",
        "plt.figure(figsize=(12, 4))\n",
        "\n",
        "plt.subplot(1, 2, 1)\n",
        "true_gender_grades = X_test.groupby('2')['True_Grade'].value_counts().unstack()\n",
        "true_gender_grades.plot(kind='bar', stacked=True, ax=plt.gca())\n",
        "plt.title('Relationship Between Gender and True Grades')\n",
        "plt.xlabel('Gender')\n",
        "plt.ylabel('Count')\n",
        "\n",
        "plt.subplot(1, 2, 2)\n",
        "predicted_gender_grades = X_test.groupby('2')['Predicted_Grade'].value_counts().unstack()\n",
        "predicted_gender_grades.plot(kind='bar', stacked=True, ax=plt.gca())\n",
        "plt.title('Relationship Between Gender and Predicted Grades')\n",
        "plt.xlabel('Gender')\n",
        "plt.ylabel('Count')\n",
        "\n",
        "plt.tight_layout()\n",
        "\n",
        "plt.show()"
      ],
      "metadata": {
        "id": "PybJTQxeuJ9G",
        "colab": {
          "base_uri": "https://localhost:8080/",
          "height": 407
        },
        "outputId": "ebc4b73d-1122-46ae-fdfb-bf1964dc4adc"
      },
      "id": "PybJTQxeuJ9G",
      "execution_count": 11,
      "outputs": [
        {
          "output_type": "display_data",
          "data": {
            "text/plain": [
              "<Figure size 1200x400 with 2 Axes>"
            ],
            "image/png": "[encoded data removed]"
          },
          "metadata": {}
        }
      ]
    },
    {
      "cell_type": "markdown",
      "source": [
        "## Utility and Group Fairness\n",
        "Again, utility in this dataset refers to the deviation of the predicted score from the actual score, i.e. abs(Grade_current - Grade_predict), and fairness refers to the fact that the other features are uncorrelated with whether or not they are independent of the Grade feature, and here we have chosen gender."
      ],
      "metadata": {
        "id": "GN-VIsIDoVLw"
      },
      "id": "GN-VIsIDoVLw"
    },
    {
      "cell_type": "markdown",
      "source": [
        "y and z are fixed and a is variable"
      ],
      "metadata": {
        "id": "TV2FUk6U5xeT"
      },
      "id": "TV2FUk6U5xeT"
    },
    {
      "cell_type": "code",
      "source": [
        "from scipy.optimize import minimize\n",
        "\n",
        "X_test['True_Grade'] = y_test\n",
        "X_test['Predicted_Grade'] = y_pred\n",
        "\n",
        "y = X_test['True_Grade']\n",
        "a = X_test['Predicted_Grade']\n",
        "z = np.array(X_test['2'])\n",
        "\n",
        "lambda_weight = 0.5\n",
        "\n",
        "def utility(a, y):\n",
        "    return -(a - y) ** 2\n",
        "\n",
        "def fairness(a, y, z):\n",
        "    abs_diffs = []\n",
        "    for y_val in np.unique(y):\n",
        "        for z_val in np.unique(z):\n",
        "            # P(a|y_val,z_val)\n",
        "            mask_yz = (y == y_val) & (z == z_val)\n",
        "            p_a_given_yz = np.mean(a[mask_yz]) if np.any(mask_yz) else 0\n",
        "\n",
        "            # P(a|y_val)\n",
        "            mask_y = y == y_val\n",
        "            p_a_given_y = np.mean(a[mask_y]) if np.any(mask_y) else 0\n",
        "\n",
        "            abs_diff = np.abs(p_a_given_yz - p_a_given_y)\n",
        "            abs_diffs.append(abs_diff)\n",
        "\n",
        "    return np.mean(abs_diffs)\n",
        "\n",
        "def objective_function(a, y, z, lambda_weight):\n",
        "    U = np.sum(utility(a, y))\n",
        "    F = fairness(a, y, z)\n",
        "\n",
        "    return -(lambda_weight * U - (1 - lambda_weight) * F)\n",
        "\n",
        "initial_a = np.array(a)\n",
        "\n",
        "args = (y, z, lambda_weight)\n",
        "\n",
        "bounds = [(0, 7) for _ in range(len(y))]\n",
        "\n",
        "opt_result = minimize(\n",
        "    fun=objective_function,\n",
        "    x0=initial_a,\n",
        "    args=args,\n",
        "    bounds=bounds,\n",
        "    method='SLSQP'\n",
        ")\n",
        "\n",
        "if opt_result.success:\n",
        "\n",
        "    optimized_a = opt_result.x\n",
        "    X_test['Optimized_Predicted_Grade'] = optimized_a\n",
        "\n",
        "    rounded_a = np.round(opt_result.x).astype(int)\n",
        "    rounded_a = np.clip(rounded_a, 0, 7)\n",
        "    X_test['Optimized_Predicted_Grade_rounded'] = rounded_a\n",
        "    print(\"Optimization was successful.\")\n",
        "else:\n",
        "    print(\"Optimization failed:\", opt_result.message)\n",
        "    rounded_a = None\n",
        "\n",
        "print(rounded_a)"
      ],
      "metadata": {
        "id": "tnVOoa_83tWS",
        "colab": {
          "base_uri": "https://localhost:8080/"
        },
        "outputId": "83209aea-f951-48c5-ea47-46ca7bddd2a8"
      },
      "id": "tnVOoa_83tWS",
      "execution_count": 13,
      "outputs": [
        {
          "output_type": "stream",
          "name": "stdout",
          "text": [
            "Optimization was successful.\n",
            "[2 6 6 6 0 0 0 4 3 0 4 7 5 4 1 4 5 6 2 1 7 7 4 5 5 7 5 7 4 7 3 2 2 4 4 5 3\n",
            " 2 1 2 3 7 5 1 3 6 0 5 5 6 7 5 3 6 0 3]\n"
          ]
        }
      ]
    },
    {
      "cell_type": "code",
      "source": [
        "plt.figure(figsize=(24, 4))\n",
        "\n",
        "plt.subplot(1, 3, 1)\n",
        "true_gender_grades = X_test.groupby('2')['True_Grade'].value_counts().unstack()\n",
        "true_gender_grades.plot(kind='bar', stacked=True, ax=plt.gca())\n",
        "plt.title('Relationship Between Gender and True Grades')\n",
        "plt.xlabel('Gender')\n",
        "plt.ylabel('Count')\n",
        "\n",
        "plt.subplot(1, 3, 2)\n",
        "predicted_gender_grades = X_test.groupby('2')['Predicted_Grade'].value_counts().unstack()\n",
        "predicted_gender_grades.plot(kind='bar', stacked=True, ax=plt.gca())\n",
        "plt.title('Relationship Between Gender and Predicted Grades')\n",
        "plt.xlabel('Gender')\n",
        "plt.ylabel('Count')\n",
        "\n",
        "plt.subplot(1, 3, 3)\n",
        "predicted_gender_grades = X_test.groupby('2')['Optimized_Predicted_Grade_rounded'].value_counts().unstack()\n",
        "predicted_gender_grades.plot(kind='bar', stacked=True, ax=plt.gca())\n",
        "plt.title('Relationship Between Gender and Rounded Optimized Predicted Grades')\n",
        "plt.xlabel('Gender')\n",
        "plt.ylabel('Count')\n",
        "\n",
        "plt.tight_layout()\n",
        "\n",
        "plt.show()"
      ],
      "metadata": {
        "id": "ftUv0LWo5cPv",
        "colab": {
          "base_uri": "https://localhost:8080/",
          "height": 280
        },
        "outputId": "144e0095-0a9b-4592-a326-c9c989814b0f"
      },
      "id": "ftUv0LWo5cPv",
      "execution_count": 14,
      "outputs": [
        {
          "output_type": "display_data",
          "data": {
            "text/plain": [
              "<Figure size 2400x400 with 3 Axes>"
            ],
            "image/png": "[encoded data removed]"
          },
          "metadata": {}
        }
      ]
    },
    {
      "cell_type": "markdown",
      "source": [
        "Strangely, after making gender and scores as independently uncorrelated as possible, gender_1's overall score is still a bit lower than gender_2's, which approximates the original data, so maybe there wasn't much correlation between the two features in the first place?"
      ],
      "metadata": {
        "id": "oxaViRhpCwcb"
      },
      "id": "oxaViRhpCwcb"
    },
    {
      "cell_type": "markdown",
      "source": [
        "## Individual Fairness\n",
        "\n",
        "The scores are obviously discrete, and if a course has a total number of successful completions required, say only 45 people can pass, then there will be many people with the same score on the passing line, so how can we tell if these people will pass? This brings us to the issue of individual fairness."
      ],
      "metadata": {
        "id": "bUEzFy5oc2iF"
      },
      "id": "bUEzFy5oc2iF"
    },
    {
      "cell_type": "code",
      "source": [
        "X_test_sorted = X_test.sort_values(by='True_Grade', ascending=False)\n",
        "\n",
        "X_test_sorted['RANK'] = X_test_sorted['True_Grade'].rank(method='first', ascending=False)\n",
        "\n",
        "# The first 45 students pass\n",
        "required_rank = 45\n",
        "X_test_sorted['pass'] = np.where(X_test_sorted['RANK'] <= required_rank, 1, 0)\n",
        "\n",
        "lambda_value = 0.1\n",
        "\n",
        "def calculate_probability_differences(df_sorted, lambda_value):\n",
        "    df_sorted['pass_smoothy'] = df_sorted['pass']\n",
        "    for i in range(required_rank-6, required_rank+5):\n",
        "        for j in range(i+1, required_rank+5):\n",
        "            d = abs(df_sorted.iloc[j]['RANK'] - df_sorted.iloc[i]['RANK'])\n",
        "\n",
        "            df_sorted.at[df_sorted.index[i], 'pass_smoothy'] = max(df_sorted.iloc[i]['pass_smoothy'], df_sorted.iloc[j]['pass_smoothy'] - lambda_value * d)\n",
        "            df_sorted.at[df_sorted.index[j], 'pass_smoothy'] = max(df_sorted.iloc[j]['pass_smoothy'], df_sorted.iloc[i]['pass_smoothy'] - lambda_value * d)\n",
        "\n",
        "calculate_probability_differences(X_test_sorted, lambda_value)\n",
        "\n",
        "print(X_test_sorted[['True_Grade', 'RANK', 'pass', 'pass_smoothy']])"
      ],
      "metadata": {
        "id": "Mp2s4tdrc5E9",
        "colab": {
          "base_uri": "https://localhost:8080/"
        },
        "outputId": "32e79229-4a1c-4393-a587-d4b57a8fd75b"
      },
      "id": "Mp2s4tdrc5E9",
      "execution_count": 22,
      "outputs": [
        {
          "output_type": "stream",
          "name": "stdout",
          "text": [
            "     True_Grade  RANK  pass  pass_smoothy\n",
            "262           7   1.0     1           1.0\n",
            "268           7   2.0     1           1.0\n",
            "77            7   3.0     1           1.0\n",
            "264           7   4.0     1           1.0\n",
            "75            7   5.0     1           1.0\n",
            "277           7   6.0     1           1.0\n",
            "84            7   7.0     1           1.0\n",
            "92            7   8.0     1           1.0\n",
            "108           6   9.0     1           1.0\n",
            "90            6  10.0     1           1.0\n",
            "245           6  11.0     1           1.0\n",
            "73            6  12.0     1           1.0\n",
            "97            6  13.0     1           1.0\n",
            "259           6  14.0     1           1.0\n",
            "240           6  15.0     1           1.0\n",
            "237           5  16.0     1           1.0\n",
            "68            5  17.0     1           1.0\n",
            "46            5  18.0     1           1.0\n",
            "238           5  19.0     1           1.0\n",
            "6             5  20.0     1           1.0\n",
            "30            5  21.0     1           1.0\n",
            "66            5  22.0     1           1.0\n",
            "239           5  23.0     1           1.0\n",
            "222           5  24.0     1           1.0\n",
            "56            5  25.0     1           1.0\n",
            "206           4  26.0     1           1.0\n",
            "210           4  27.0     1           1.0\n",
            "209           4  28.0     1           1.0\n",
            "221           4  29.0     1           1.0\n",
            "203           4  30.0     1           1.0\n",
            "217           4  31.0     1           1.0\n",
            "143           4  32.0     1           1.0\n",
            "216           4  33.0     1           1.0\n",
            "79            3  34.0     1           1.0\n",
            "196           3  35.0     1           1.0\n",
            "25            3  36.0     1           1.0\n",
            "19            3  37.0     1           1.0\n",
            "45            3  38.0     1           1.0\n",
            "144           3  39.0     1           1.0\n",
            "22            3  40.0     1           1.0\n",
            "24            2  41.0     1           1.0\n",
            "119           2  42.0     1           1.0\n",
            "33            2  43.0     1           1.0\n",
            "111           2  44.0     1           1.0\n",
            "60            2  45.0     1           1.0\n",
            "176           2  46.0     0           0.9\n",
            "120           1  47.0     0           0.8\n",
            "142           1  48.0     0           0.7\n",
            "127           1  49.0     0           0.6\n",
            "42            1  50.0     0           0.5\n",
            "155           0  51.0     0           0.0\n",
            "146           0  52.0     0           0.0\n",
            "9             0  53.0     0           0.0\n",
            "154           0  54.0     0           0.0\n",
            "147           0  55.0     0           0.0\n",
            "168           0  56.0     0           0.0\n"
          ]
        }
      ]
    }
  ],
  "metadata": {
    "kernelspec": {
      "display_name": "Python 3 (ipykernel)",
      "language": "python",
      "name": "python3"
    },
    "language_info": {
      "codemirror_mode": {
        "name": "ipython",
        "version": 3
      },
      "file_extension": ".py",
      "mimetype": "text/x-python",
      "name": "python",
      "nbconvert_exporter": "python",
      "pygments_lexer": "ipython3",
      "version": "3.9.12"
    },
    "colab": {
      "provenance": []
    }
  },
  "nbformat": 4,
  "nbformat_minor": 5
}